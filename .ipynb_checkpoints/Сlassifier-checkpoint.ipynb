{
 "cells": [
  {
   "cell_type": "markdown",
   "id": "cd353f8f",
   "metadata": {},
   "source": [
    "# Implementation of a naive Bayes classifier for checking spam\\non-spam emails"
   ]
  },
  {
   "cell_type": "markdown",
   "id": "0eba9212",
   "metadata": {},
   "source": [
    "Our task is to calculate the most probable class, so we need to calculate the value of the random variable $C$ at which the posteriori maximum is reached\n",
    "\n",
    "$$C = argmax P(c|d) \\quad c \\in C$$\n",
    "\n",
    "According to Bayes' theorem , we decompose P(c|d)\n",
    "\n",
    "$$C = argmax \\frac{P(d|c)*P(c)}{P(d)}$$\n",
    "\n",
    "Considering that we are looking for an argument that maximizes the likelihood function, and that the denominator does not depend on this argument and is a constant in this case, we can cross out the value of the composite probability P(d)\n",
    "\n",
    "$$C = argmax P(d|c)*P(c)$$\n",
    "\n",
    "Since the maximum of any function f(x) will be identical to the maximum of ln(f(x)), then\n",
    "\n",
    "$$C = arg max ln(P(d|c)*P(c))$$\n",
    "\n",
    "Given the naivety of our classifier and the property of the logarithm:\n",
    "\n",
    "$$C = arg max ln(P(f_1,f_2,...,f_n|c)*P(c)) \\newline\n",
    "= arg max ln(P(c)*\\prod_{i=1}^{n} P(f_i,c)) \\newline\n",
    "= arg max ln(P(c))+\\sum_{i=1}^{n} ln(P(f_i,c)) $$\n",
    "\n",
    "So, using the maximum likelihood method and Laplace blur, we get:\n",
    "$$ P(f_i,c_j) = \\frac{count(f_i,c_j) + z}{\\sum_{k=1}^{q} count(f_k,c_j) + zq} \\newline$$\n",
    "Where z >= 0 - blur factor ,q - total number of words\n",
    "\n",
    "#### Let's start implementing our classifier"
   ]
  },
  {
   "cell_type": "code",
   "execution_count": 90,
   "id": "ef2b84c1",
   "metadata": {},
   "outputs": [],
   "source": [
    "# Imports\n",
    "from math import log\n",
    "import pandas as pd \n",
    "from typing import Dict, List"
   ]
  },
  {
   "cell_type": "code",
   "execution_count": 80,
   "id": "5e6b80c8",
   "metadata": {},
   "outputs": [],
   "source": [
    "# Define a dict of spam\\non-spam emails and initialize the blur factor z\n",
    "s = {'spam':['путевки низкой цене','акция купи шоколадку получи телефон подарок'],'notspam':['завтра состоится собрание','купи килограмм яблок шоколадку']}\n",
    "z: int = 1\n",
    "data =  pd.read_csv(\"../input/spam-or-not-spam-dataset/spam_or_not_spam.csv\")"
   ]
  },
  {
   "cell_type": "code",
   "execution_count": 81,
   "id": "acc6c204",
   "metadata": {},
   "outputs": [],
   "source": [
    "# Calculate the number of words related to the spam\\non-spam categories\n",
    "count_spam: int = 0\n",
    "count_not_spam: int  = 0\n",
    "count_total: int = 0\n",
    "for k, v in s.items():\n",
    "    if(k == 'spam'):\n",
    "        count_spam += len(v)\n",
    "    if(k == 'notspam'):\n",
    "        count_not_spam += len(v)\n",
    "count_total = count_not_spam + count_spam"
   ]
  },
  {
   "cell_type": "code",
   "execution_count": 82,
   "id": "f2ef30e1",
   "metadata": {},
   "outputs": [],
   "source": [
    "# Define dicts of 'bag of words' for spam\\unspam emails\n",
    "bag_of_words_spam: Dict[str, int] = {}\n",
    "bag_of_words_not_spam: Dict[str, int] = {}\n",
    "list_of_words_spam: List[str] = []\n",
    "list_of_words_not_spam: List[str] = []\n",
    "for k, v in s.items():\n",
    "    if(k == 'spam'):\n",
    "        for sentence in v:\n",
    "            tmp = sentence.split( )\n",
    "            list_of_words_spam.extend(tmp)\n",
    "            \n",
    "    if(k == 'notspam'):\n",
    "        for sentence in v:\n",
    "            tmp = sentence.split( )\n",
    "            list_of_words_not_spam.extend(tmp)\n",
    "                 \n",
    "for v in list_of_words_spam:\n",
    "    bag_of_words_spam[v] = list_of_words_spam.count(v)\n",
    "    \n",
    "for v in list_of_words_not_spam:\n",
    "    bag_of_words_not_spam[v] = list_of_words_not_spam.count(v)\n",
    "\n"
   ]
  },
  {
   "cell_type": "code",
   "execution_count": 83,
   "id": "d263f874",
   "metadata": {},
   "outputs": [],
   "source": [
    "# Define the email that will be classified\n",
    "sentence = 'магазине гора яблок купи семь килограмм шоколадку'\n",
    "split_sentence = sentence.split(' ')"
   ]
  },
  {
   "cell_type": "code",
   "execution_count": 84,
   "id": "a3a14a5f",
   "metadata": {},
   "outputs": [],
   "source": [
    "def count_word_in_bag_of_words(word: str, bag: Dict[str, int]) -> str:\n",
    "    \"\"\"\n",
    "    count_word_in_bag_of_words - counting the number of occurrences of a word in a dict of 'bag of words'\n",
    "    \"\"\"\n",
    "    if(word not in bag.keys()):\n",
    "        return 0\n",
    "    else:\n",
    "        return bag[word]"
   ]
  },
  {
   "cell_type": "code",
   "execution_count": 85,
   "id": "bf935c91",
   "metadata": {},
   "outputs": [],
   "source": [
    "def sum_words_in_bag_of_words(bag: Dict[str, int]) -> int:\n",
    "    \"\"\"\n",
    "    sum_words - counting words in a dict of 'bag of words'\n",
    "    \"\"\"\n",
    "    return sum(bag.values())"
   ]
  },
  {
   "cell_type": "code",
   "execution_count": 86,
   "id": "fd3eebfd",
   "metadata": {},
   "outputs": [],
   "source": [
    "# Calculate the number of words in both dicts\n",
    "total_sum: int = (sum_words_in_bag_of_words(bag_of_words_spam) + sum_words_in_bag_of_words(bag_of_words_not_spam))"
   ]
  },
  {
   "cell_type": "code",
   "execution_count": 87,
   "id": "2b0ebe0e",
   "metadata": {},
   "outputs": [],
   "source": [
    "# Calculating the final probability for a letter for spam object\n",
    "try:\n",
    "    probability_spam = log(count_spam/count_total)\n",
    "    for word in split_sentence:\n",
    "        probability_spam += log((count_word_in_bag_of_words(word,bag_of_words_spam) + z)\n",
    "                                /(sum_words_in_bag_of_words(bag_of_words_spam) + (z * total_sum)))\n",
    "except ValueError and ZeroDivisionError:\n",
    "    probability_spam = 0\n"
   ]
  },
  {
   "cell_type": "code",
   "execution_count": 88,
   "id": "29507ed8",
   "metadata": {},
   "outputs": [],
   "source": [
    "# Calculating the final probability for a letter for non-spam object\n",
    "try:\n",
    "    probability_not_spam = log((count_total-count_spam)/count_total)\n",
    "    for word in split_sentence:\n",
    "        probability_not_spam += log((count_word_in_bag_of_words(word,bag_of_words_not_spam) + z)\n",
    "                                    /(sum_words_in_bag_of_words(bag_of_words_not_spam) + (z * total_sum)))\n",
    "except ValueError and ZeroDivisionError:\n",
    "    probability_not_spam = 0     "
   ]
  },
  {
   "cell_type": "code",
   "execution_count": 89,
   "id": "d6a9bbf7",
   "metadata": {},
   "outputs": [
    {
     "name": "stdout",
     "output_type": "stream",
     "text": [
      "The email \"магазине гора яблок купи семь килограмм шоколадку\" is not spam\n"
     ]
    }
   ],
   "source": [
    "# Determining if the email is spam\n",
    "if(probability_not_spam>probability_spam):\n",
    "    print(f'The email \"{sentence}\" is not spam')\n",
    "else:\n",
    "    print(f'The email \"{sentence}\" is spam')"
   ]
  }
 ],
 "metadata": {
  "kernelspec": {
   "display_name": "Python 3 (ipykernel)",
   "language": "python",
   "name": "python3"
  },
  "language_info": {
   "codemirror_mode": {
    "name": "ipython",
    "version": 3
   },
   "file_extension": ".py",
   "mimetype": "text/x-python",
   "name": "python",
   "nbconvert_exporter": "python",
   "pygments_lexer": "ipython3",
   "version": "3.9.12"
  }
 },
 "nbformat": 4,
 "nbformat_minor": 5
}
