{
 "cells": [
  {
   "cell_type": "markdown",
   "id": "cd353f8f",
   "metadata": {},
   "source": [
    "# Реализация наивного Байесовского классификатора для проверки спам\\неспам писем"
   ]
  },
  {
   "cell_type": "markdown",
   "id": "0eba9212",
   "metadata": {},
   "source": [
    "Нашей задачей является вычисление наиболее вероятного класса, то есть нам необходимо вычислить такое значение случайной переменной $C$, при котором достигается апостериорный максимум\n",
    "\n",
    "$$C = argmax P(c|d) \\quad c \\in C$$\n",
    "\n",
    "По т. Байеса раскладываем P(c|d)\n",
    "\n",
    "$$C = argmax \\frac{P(d|c)*P(c)}{P(d)}$$\n",
    "\n",
    "Учитывая, что мы ищем аргумент, максимизирующий функцию правдоподобия, и то, что знаменатель не зависит от этого аргумента и является в данном случае константой, то мы можем вычеркнуть значение полной вероятности P(d)\n",
    "\n",
    "$$C = argmax P(d|c)*P(c)$$\n",
    "\n",
    "Так как максимум любой функции f(x) будет идентичен максимуму ln(f(x)), то \n",
    "\n",
    "$$C = arg max ln(P(d|c)*P(c))$$\n",
    "\n",
    "Учитывая наивность нашего классификатора и свойство логарифма:\n",
    "\n",
    "$$C = arg max ln(P(f_1,f_2,...,f_n|c)*P(c)) \\newline\n",
    "= arg max ln(P(c)*\\prod_{i=1}^{n} P(f_i,c)) \\newline\n",
    "= arg max ln(P(c))+\\sum_{i=1}^{n} ln(P(f_i,c)) $$\n",
    "\n",
    "Итак, используя метод максимального правдоподобия и размытие по Лапласу получаем: \n",
    "$$ P(f_i,c_j) = \\frac{count(f_i,c_j) + z}{\\sum_{k=1}^{q} count(f_k,c_j) + zq} \\newline$$\n",
    "Где z >= 0 - коэффициент размытия ,q - общее количество слов \n",
    "\n",
    "#### Приступим к реализации нашего классификатора"
   ]
  },
  {
   "cell_type": "code",
   "execution_count": 1,
   "id": "ef2b84c1",
   "metadata": {},
   "outputs": [],
   "source": [
    "from math import log"
   ]
  },
  {
   "cell_type": "markdown",
   "id": "5c4cf08b",
   "metadata": {},
   "source": [
    "Определяяем набор спам\\ не спам писем и инициализируем коэффициент размытия *z*"
   ]
  },
  {
   "cell_type": "code",
   "execution_count": 2,
   "id": "5e6b80c8",
   "metadata": {},
   "outputs": [],
   "source": [
    "s = {'spam':['путевки низкой цене','акция купи шоколадку получи телефон подарок'],'notspam':['завтра состоится собрание','купи килограмм яблок шоколадку']}\n",
    "z = 1"
   ]
  },
  {
   "cell_type": "markdown",
   "id": "765f657b",
   "metadata": {},
   "source": [
    "Вычисляем колличество слов, относящихся к категориям спам\\неспам"
   ]
  },
  {
   "cell_type": "code",
   "execution_count": 3,
   "id": "acc6c204",
   "metadata": {},
   "outputs": [],
   "source": [
    "countSpam = 0\n",
    "countNotSpam = 0\n",
    "countTotal = 0\n",
    "for k, v in s.items():\n",
    "    if(k == 'spam'):\n",
    "        countSpam += len(v)\n",
    "    if(k == 'notspam'):\n",
    "        countNotSpam += len(v)\n",
    "countTotal = countNotSpam + countSpam"
   ]
  },
  {
   "cell_type": "markdown",
   "id": "ef419bf1",
   "metadata": {},
   "source": [
    "Определяем наборы 'bag of words' для спам\\неспам писем"
   ]
  },
  {
   "cell_type": "code",
   "execution_count": 4,
   "id": "f2ef30e1",
   "metadata": {},
   "outputs": [],
   "source": [
    "bagOfWords_spam = {}\n",
    "bagOfWords_notspam = {}\n",
    "listOfWords_spam = []\n",
    "listOfWords_notspam = []\n",
    "for k, v in s.items():\n",
    "    if(k == 'spam'):\n",
    "        for sentence in v:\n",
    "            tmp = sentence.split( )\n",
    "            listOfWords_spam.extend(tmp)\n",
    "            \n",
    "    if(k == 'notspam'):\n",
    "        for sentence in v:\n",
    "            tmp = sentence.split( )\n",
    "            listOfWords_notspam.extend(tmp)\n",
    "                 \n",
    "for v in listOfWords_spam:\n",
    "    bagOfWords_spam[v] = listOfWords_spam.count(v)\n",
    "    \n",
    "for v in listOfWords_notspam:\n",
    "    bagOfWords_notspam[v] = listOfWords_notspam.count(v)\n",
    "\n"
   ]
  },
  {
   "cell_type": "markdown",
   "id": "d1f46502",
   "metadata": {},
   "source": [
    "Определяем письмо, которое будет классифицироваться"
   ]
  },
  {
   "cell_type": "code",
   "execution_count": 5,
   "id": "d263f874",
   "metadata": {},
   "outputs": [],
   "source": [
    "sentence = 'магазине гора яблок купи семь килограмм шоколадку'\n",
    "splitSentence = sentence.split(' ')"
   ]
  },
  {
   "cell_type": "markdown",
   "id": "05e0bf41",
   "metadata": {},
   "source": [
    "Функция *count* - подсчёт колличества вхождения слова(*word*) в набор 'bag of words'"
   ]
  },
  {
   "cell_type": "code",
   "execution_count": 6,
   "id": "a3a14a5f",
   "metadata": {},
   "outputs": [],
   "source": [
    "def count(word,bag):\n",
    "    if(word not in bag.keys()):\n",
    "        return 0\n",
    "    else:\n",
    "        return bag[word]"
   ]
  },
  {
   "cell_type": "markdown",
   "id": "1dd31ccf",
   "metadata": {},
   "source": [
    "Функция *sumWords* - подсчёт слов в наборе 'bag of words'"
   ]
  },
  {
   "cell_type": "code",
   "execution_count": 7,
   "id": "bf935c91",
   "metadata": {},
   "outputs": [],
   "source": [
    "def sumWords(bag):\n",
    "    return sum(bag.values())"
   ]
  },
  {
   "cell_type": "markdown",
   "id": "f2d0ff52",
   "metadata": {},
   "source": [
    "Вычисляем колличество слов в обоих наборах"
   ]
  },
  {
   "cell_type": "code",
   "execution_count": 8,
   "id": "fd3eebfd",
   "metadata": {},
   "outputs": [],
   "source": [
    "totalSum = (sumWords(bagOfWords_spam) + sumWords(bagOfWords_notspam))"
   ]
  },
  {
   "cell_type": "markdown",
   "id": "d35a8c02",
   "metadata": {},
   "source": [
    "Вычисляем итоговую вероятность для письма для спам\\неспам объектов"
   ]
  },
  {
   "cell_type": "code",
   "execution_count": 9,
   "id": "2b0ebe0e",
   "metadata": {},
   "outputs": [],
   "source": [
    "probability_spam = log(countSpam/countTotal)\n",
    "for word in splitSentence:\n",
    "    probability_spam += log((count(word,bagOfWords_spam) + z)/(sumWords(bagOfWords_spam) + (z * totalSum)))"
   ]
  },
  {
   "cell_type": "code",
   "execution_count": 11,
   "id": "29507ed8",
   "metadata": {},
   "outputs": [],
   "source": [
    "probability_notspam = log((countTotal-countSpam)/countTotal)\n",
    "for word in splitSentence:\n",
    "    probability_notspam += log((count(word,bagOfWords_notspam) + z)/(sumWords(bagOfWords_notspam) + (z * totalSum)))"
   ]
  },
  {
   "cell_type": "code",
   "execution_count": 12,
   "id": "d6a9bbf7",
   "metadata": {},
   "outputs": [
    {
     "name": "stdout",
     "output_type": "stream",
     "text": [
      "Письмо \"магазине гора яблок купи семь килограмм шоколадку\" не является спамом\n"
     ]
    }
   ],
   "source": [
    "if(probability_notspam>probability_spam):\n",
    "    print(f'Письмо \"{sentence}\" не является спамом')\n",
    "else:\n",
    "    print(f'Письмо \"{sentence}\" является спамом')"
   ]
  }
 ],
 "metadata": {
  "kernelspec": {
   "display_name": "Python 3 (ipykernel)",
   "language": "python",
   "name": "python3"
  },
  "language_info": {
   "codemirror_mode": {
    "name": "ipython",
    "version": 3
   },
   "file_extension": ".py",
   "mimetype": "text/x-python",
   "name": "python",
   "nbconvert_exporter": "python",
   "pygments_lexer": "ipython3",
   "version": "3.9.12"
  }
 },
 "nbformat": 4,
 "nbformat_minor": 5
}
